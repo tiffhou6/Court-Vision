{
 "cells": [
  {
   "cell_type": "code",
   "execution_count": 2,
   "metadata": {},
   "outputs": [
    {
     "name": "stderr",
     "output_type": "stream",
     "text": [
      "100%|██████████| 2955/2955 [01:05<00:00, 45.03it/s]\n"
     ]
    }
   ],
   "source": [
    "from typing import List, Tuple, Dict\n",
    "import cv2\n",
    "import numpy as np\n",
    "import os\n",
    "from roboflow import Roboflow\n",
    "from tqdm import tqdm\n",
    "import random\n",
    "import matplotlib.pyplot as plt \n",
    "from PIL import Image\n",
    "\n",
    "def convert_to_pixels(box: List[float], image_width: int, image_height: int) -> Tuple[int, int, int, int]:\n",
    "    x_center, y_center, width, height = box\n",
    "    x_center *= image_width\n",
    "    y_center *= image_height\n",
    "    width *= image_width\n",
    "    height *= image_height\n",
    "    \n",
    "    x1 = int(x_center - width / 2)\n",
    "    y1 = int(y_center - height / 2)\n",
    "    x2 = int(x_center + width / 2)\n",
    "    y2 = int(y_center + height / 2)\n",
    "    \n",
    "    return x1, y1, x2, y2\n",
    "\n",
    "def crop_and_save(image_path, bbox_coords, output_dir, class_id):\n",
    "    \"\"\"\n",
    "    Crop the image to the bounding box and save it to the specified output directory.\n",
    "    \"\"\"\n",
    "    with Image.open(image_path) as img:\n",
    "        cropped_img = img.crop(bbox_coords)\n",
    "        output_path = os.path.join(output_dir, f\"{class_id}\", os.path.basename(image_path))\n",
    "        cropped_img.save(output_path)\n",
    "\n",
    "# Directories\n",
    "base_dir = \"basketballDetection-24/train\"\n",
    "images_dir = os.path.join(base_dir, \"images\")\n",
    "labels_dir = os.path.join(base_dir, \"labels\")\n",
    "output_dir = \"classification_dataset\"\n",
    "\n",
    "# Create output directories\n",
    "os.makedirs(output_dir, exist_ok=True)\n",
    "for i in range(2):  # Number of classes\n",
    "    os.makedirs(os.path.join(output_dir, f\"{i}\"), exist_ok=True)\n",
    "\n",
    "# Process each label file\n",
    "for label_file in tqdm(os.listdir(labels_dir)):\n",
    "    with open(os.path.join(labels_dir, label_file), 'r') as file:\n",
    "        lines = file.readlines()\n",
    "\n",
    "    if not lines:\n",
    "        continue\n",
    "\n",
    "    # Check for class \"1\" first, then fall back to class \"0\"\n",
    "    selected_line = None\n",
    "    for line in lines:\n",
    "        class_id, _ = line.strip().split(' ', 1)\n",
    "        if class_id == '1':\n",
    "            selected_line = line\n",
    "            break\n",
    "        elif class_id == '0' and selected_line is None:\n",
    "            selected_line = line\n",
    "\n",
    "    if selected_line is None:\n",
    "        continue  # Skip if no suitable class found\n",
    "\n",
    "    class_id, coords = selected_line.strip().split(' ', 1)\n",
    "    box = [float(coord) for coord in coords.split()]\n",
    "    image_file = label_file.replace('.txt', '.jpg')\n",
    "    image_path = os.path.join(images_dir, image_file)\n",
    "\n",
    "    if not os.path.exists(image_path):\n",
    "        continue\n",
    "\n",
    "    img = Image.open(image_path)\n",
    "    bbox_coords = convert_to_pixels(box, img.width, img.height)\n",
    "    crop_and_save(image_path, bbox_coords, output_dir, class_id)\n",
    "\n",
    "\n",
    "\n",
    "# rf = Roboflow(api_key=\"nz2w1UFnyFrM7e73WOzh\")\n",
    "# project = rf.workspace(\"nyu-figsb\").project(\"basketballdetection-cki6r\")\n",
    "# dataset = project.version(24).download(\"yolov8\")"
   ]
  },
  {
   "cell_type": "code",
   "execution_count": 2,
   "metadata": {},
   "outputs": [
    {
     "name": "stdout",
     "output_type": "stream",
     "text": [
      "classification_dataset/0\n"
     ]
    }
   ],
   "source": [
    "def find_small_images(directory, min_width, min_height = None):\n",
    "    print(directory)\n",
    "    min_height = min_width if not min_height else min_height\n",
    "    small_images_info = []\n",
    "    for dirpath, dirnames, filenames in os.walk(directory):\n",
    "        for filename in filenames:\n",
    "            # Skip system files like .DS_Store\n",
    "            if filename.startswith('.'):\n",
    "                continue\n",
    "            try:\n",
    "                file_path = os.path.join(dirpath, filename)\n",
    "                with Image.open(file_path) as img:\n",
    "                    w, h = img.size\n",
    "                    if w * h < min_width * min_height:\n",
    "                        small_images_info.append((file_path, img.size))\n",
    "            except Exception as e:\n",
    "                print(f\"Error processing image {filename}: {e}\")\n",
    "    return small_images_info\n",
    "\n",
    "small_images_info = find_small_images(output_dir + \"/0\", 17)\n"
   ]
  },
  {
   "cell_type": "code",
   "execution_count": 4,
   "metadata": {},
   "outputs": [],
   "source": [
    "for img in small_images_info:\n",
    "    os.remove(img[0])"
   ]
  },
  {
   "cell_type": "code",
   "execution_count": null,
   "metadata": {},
   "outputs": [],
   "source": []
  }
 ],
 "metadata": {
  "kernelspec": {
   "display_name": "vision",
   "language": "python",
   "name": "vision"
  },
  "language_info": {
   "codemirror_mode": {
    "name": "ipython",
    "version": 3
   },
   "file_extension": ".py",
   "mimetype": "text/x-python",
   "name": "python",
   "nbconvert_exporter": "python",
   "pygments_lexer": "ipython3",
   "version": "3.10.13"
  }
 },
 "nbformat": 4,
 "nbformat_minor": 2
}
